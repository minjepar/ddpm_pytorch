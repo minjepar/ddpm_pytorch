{
 "cells": [
  {
   "cell_type": "code",
   "execution_count": 10,
   "id": "95c76be5-6a5b-49a2-bcd1-34ea7c43ab22",
   "metadata": {},
   "outputs": [
    {
     "name": "stdout",
     "output_type": "stream",
     "text": [
      "3.9111831410233178\n",
      "3.9935176983461256\n"
     ]
    }
   ],
   "source": [
    "import numpy as np\n",
    "\n",
    "N = 1000\n",
    "theta = 2.0\n",
    "eps = np.random.randn(N)\n",
    "x = theta + eps\n",
    "\n",
    "grad1 = lambda x: np.sum(np.square(x)*(x-theta)) / x.size\n",
    "grad2 = lambda eps: np.sum(2*(theta + eps)) / x.size\n",
    "\n",
    "print(grad1(x))\n",
    "print(grad2(eps))"
   ]
  },
  {
   "cell_type": "code",
   "execution_count": 12,
   "id": "3118c1d2-88b3-4ab6-af8f-e9e9d499f67e",
   "metadata": {},
   "outputs": [
    {
     "name": "stdout",
     "output_type": "stream",
     "text": [
      "[3.47097551 4.01581196 3.96084073 4.01954586 3.99773642]\n",
      "[3.98973568 4.00557465 4.00056231 3.99875008 4.00105749]\n",
      "[7.70304702e+00 8.75089924e-01 8.90293269e-02 9.30538569e-03\n",
      " 7.16857100e-04]\n",
      "[3.46983198e-01 3.77195388e-02 4.17852275e-03 5.12052567e-04\n",
      " 4.04190687e-05]\n"
     ]
    }
   ],
   "source": [
    "Ns = [10, 100, 1000, 10000, 100000]\n",
    "reps = 100\n",
    "\n",
    "means1 = np.zeros(len(Ns))\n",
    "vars1 = np.zeros(len(Ns))\n",
    "means2 = np.zeros(len(Ns))\n",
    "vars2 = np.zeros(len(Ns))\n",
    "\n",
    "est1 = np.zeros(reps)\n",
    "est2 = np.zeros(reps)\n",
    "for i, N in enumerate(Ns):\n",
    "    for r in range(reps):\n",
    "        x = np.random.randn(N) + theta\n",
    "        est1[r] = grad1(x)\n",
    "        eps = np.random.randn(N)\n",
    "        est2[r] = grad2(eps)\n",
    "    means1[i] = np.mean(est1)\n",
    "    means2[i] = np.mean(est2)\n",
    "    vars1[i] = np.var(est1)\n",
    "    vars2[i] = np.var(est2)\n",
    "    \n",
    "print(means1)\n",
    "print(means2)\n",
    "print(vars1)\n",
    "print(vars2)"
   ]
  }
 ],
 "metadata": {
  "kernelspec": {
   "display_name": "Python 3 (ipykernel)",
   "language": "python",
   "name": "python3"
  },
  "language_info": {
   "codemirror_mode": {
    "name": "ipython",
    "version": 3
   },
   "file_extension": ".py",
   "mimetype": "text/x-python",
   "name": "python",
   "nbconvert_exporter": "python",
   "pygments_lexer": "ipython3",
   "version": "3.8.10"
  }
 },
 "nbformat": 4,
 "nbformat_minor": 5
}
