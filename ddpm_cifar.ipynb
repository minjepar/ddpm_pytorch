{
 "cells": [
  {
   "cell_type": "code",
   "execution_count": 1,
   "id": "57eae677-920b-4193-9cfd-680f99308191",
   "metadata": {},
   "outputs": [],
   "source": [
    "import functools\n",
    "import time\n",
    "from tqdm.notebook import tqdm\n",
    "\n",
    "import numpy as np\n",
    "\n",
    "import torch\n",
    "import torch.nn as nn\n",
    "import torch.optim as optim\n",
    "from torchvision import models, datasets, transforms\n",
    "\n",
    "import matplotlib.pyplot as plt"
   ]
  },
  {
   "cell_type": "code",
   "execution_count": 2,
   "id": "eda857d0-e685-4259-9937-f1539f93ca61",
   "metadata": {},
   "outputs": [],
   "source": [
    "def timer(func):\n",
    "    @functools.wrap(func)\n",
    "    def wrapper(*args, **kwargs):\n",
    "        stime = time.perf_counter()\n",
    "        res = func(*args, **kwargs)\n",
    "        elapsed = time.perf_counter() - stime\n",
    "        print(f\"{func.__name__} in {elapsed:.4f} secs\")\n",
    "        return res\n",
    "    return wrapper  "
   ]
  },
  {
   "cell_type": "code",
   "execution_count": null,
   "id": "d9fbddeb-a047-476a-b33f-57a1286e3b69",
   "metadata": {},
   "outputs": [],
   "source": [
    "device = torch.device(\"cuda\" if torch.cuda.is_available() else \"cpu\")"
   ]
  },
  {
   "cell_type": "code",
   "execution_count": 3,
   "id": "798f1484-9ee5-4cc8-89c5-d5f7301693c0",
   "metadata": {},
   "outputs": [
    {
     "name": "stdout",
     "output_type": "stream",
     "text": [
      "Files already downloaded and verified\n"
     ]
    }
   ],
   "source": [
    "# data\n",
    "data_mean = (0.491, 0.482, 0.447)\n",
    "data_std = (0.247, 0.243, 0.262)\n",
    "train_tx = transforms.Compose([\n",
    "    transforms.RandomHorizontalFlip(),\n",
    "    #transforms.RandomCrop(size=32, padding=4),\n",
    "    transforms.ToTensor(),\n",
    "    transforms.Normalize(data_mean, data_std),\n",
    "])\n",
    "\n",
    "batch_size = 64\n",
    "train_loader = torch.utils.data.DataLoader(\n",
    "    datasets.CIFAR10('data', train=True, download=True, transform=train_tx),\n",
    "    batch_size=batch_size, shuffle=True, num_workers=4\n",
    ")"
   ]
  }
 ],
 "metadata": {
  "kernelspec": {
   "display_name": "Python 3 (ipykernel)",
   "language": "python",
   "name": "python3"
  },
  "language_info": {
   "codemirror_mode": {
    "name": "ipython",
    "version": 3
   },
   "file_extension": ".py",
   "mimetype": "text/x-python",
   "name": "python",
   "nbconvert_exporter": "python",
   "pygments_lexer": "ipython3",
   "version": "3.8.10"
  }
 },
 "nbformat": 4,
 "nbformat_minor": 5
}
